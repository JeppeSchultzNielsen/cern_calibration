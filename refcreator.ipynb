{
 "cells": [
  {
   "cell_type": "code",
   "execution_count": 1,
   "id": "9735f0b9",
   "metadata": {},
   "outputs": [],
   "source": [
    "import numpy as np\n",
    "import matplotlib.pyplot as plt\n",
    "from scipy.optimize import curve_fit\n",
    "import math as math\n",
    "from scipy.optimize import minimize\n",
    "import scipy.stats as ss\n",
    "from scipy.signal import find_peaks \n",
    "from matplotlib import rc\n",
    "from scipy.optimize import fsolve\n",
    "\n",
    "SMALL_SIZE = 16\n",
    "MEDIUM_SIZE = 18\n",
    "BIGGER_SIZE = 24\n",
    "\n",
    "plt.rc('text', usetex=True)\n",
    "plt.rc('font', family='serif')\n",
    "plt.rc('font', size=SMALL_SIZE)          # controls default text sizes\n",
    "plt.rc('axes', titlesize=BIGGER_SIZE)     # fontsize of the axes title\n",
    "plt.rc('axes', labelsize=MEDIUM_SIZE)    # fontsize of the x and y labels\n",
    "plt.rc('xtick', labelsize=SMALL_SIZE)    # fontsize of the tick labels\n",
    "plt.rc('ytick', labelsize=SMALL_SIZE)    # fontsize of the tick labels\n",
    "plt.rc('legend', fontsize=SMALL_SIZE)    # legend fontsize\n",
    "plt.rc('figure', titlesize=BIGGER_SIZE)  # fontsize of the figure title\n",
    "\n",
    "#en figur der fylder en kolonne har bredde 5,8, f.eks: fig, ax= plt.subplots(figsize=(5.8,4))\n",
    "#en figur der fylder to kolonner har dobbeltbredde??\n",
    "import re"
   ]
  },
  {
   "cell_type": "code",
   "execution_count": null,
   "id": "c70c9c62",
   "metadata": {},
   "outputs": [],
   "source": []
  },
  {
   "cell_type": "code",
   "execution_count": 13,
   "id": "89079679",
   "metadata": {},
   "outputs": [],
   "source": [
    "energies = []\n",
    "intensities = []\n",
    "\n",
    "with open(\"ref.txt\", \"r\") as f:\n",
    "    data = f.readlines()\n",
    "\n",
    "for i in range(len(data)):\n",
    "    numberstart = 0\n",
    "    for j in range(len(data[i])):\n",
    "        if(data[i][j] != ' '):\n",
    "            numberstart = j\n",
    "            break\n",
    "    data[i] = data[i][numberstart:]\n",
    "    energyEnd = 0\n",
    "    intensityStart = 0\n",
    "    intensityEnd = 0\n",
    "    for j in range(len(data[i])):\n",
    "        if(data[i][j] == ' '):\n",
    "            energyEnd = j\n",
    "            break\n",
    "    energies.append(float(data[i][:j]))\n",
    "            \n",
    "    data[i] = re.sub(r' ', '', data[i], count = 100)\n",
    "    for j in range(len(data[i])):\n",
    "        if(data[i][j] == '\\t'):\n",
    "            intensityStart = j\n",
    "        if(data[i][j] == '%'):\n",
    "            intensityEnd = j\n",
    "            break\n",
    "    intensities.append(float(data[i][intensityStart+1:intensityEnd]))"
   ]
  },
  {
   "cell_type": "code",
   "execution_count": 14,
   "id": "a83b1d64",
   "metadata": {},
   "outputs": [],
   "source": [
    "sortedList = sorted(zip(energies,intensities))"
   ]
  },
  {
   "cell_type": "code",
   "execution_count": 15,
   "id": "fdaa3600",
   "metadata": {},
   "outputs": [],
   "source": [
    "pairs = []\n",
    "\n",
    "for i in range(len(sortedList)):\n",
    "    if(i > 0):\n",
    "        if(sortedList[i][0] - pairs[-1][0] < 2):\n",
    "            newPair0 = (pairs[-1][1]*pairs[-1][0]+sortedList[i][1]*sortedList[i][0])/(sortedList[i][1]+pairs[-1][1])\n",
    "            newPair1 = sortedList[i][1] + pairs[-1][1]\n",
    "            pairs[-1] = (newPair0,newPair1)\n",
    "        else:\n",
    "            pairs.append(sortedList[i])\n",
    "            \n",
    "    else: \n",
    "        pairs.append(sortedList[i])"
   ]
  },
  {
   "cell_type": "code",
   "execution_count": 16,
   "id": "6054cf3f",
   "metadata": {},
   "outputs": [],
   "source": [
    "pairs = np.array(pairs)"
   ]
  },
  {
   "cell_type": "code",
   "execution_count": 17,
   "id": "5b84cc95",
   "metadata": {},
   "outputs": [],
   "source": [
    "np.savetxt('refsGa.txt',pairs)"
   ]
  },
  {
   "cell_type": "code",
   "execution_count": 8,
   "id": "3a7466b8",
   "metadata": {},
   "outputs": [
    {
     "data": {
      "text/plain": [
       "14.0"
      ]
     },
     "execution_count": 8,
     "metadata": {},
     "output_type": "execute_result"
    }
   ],
   "source": [
    "sortedList[0][1]"
   ]
  },
  {
   "cell_type": "code",
   "execution_count": null,
   "id": "84b98eaf",
   "metadata": {},
   "outputs": [],
   "source": []
  }
 ],
 "metadata": {
  "kernelspec": {
   "display_name": "Python 3 (ipykernel)",
   "language": "python",
   "name": "python3"
  },
  "language_info": {
   "codemirror_mode": {
    "name": "ipython",
    "version": 3
   },
   "file_extension": ".py",
   "mimetype": "text/x-python",
   "name": "python",
   "nbconvert_exporter": "python",
   "pygments_lexer": "ipython3",
   "version": "3.9.7"
  }
 },
 "nbformat": 4,
 "nbformat_minor": 5
}
