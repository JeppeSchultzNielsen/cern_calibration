{
 "cells": [
  {
   "cell_type": "code",
   "execution_count": 4,
   "id": "27044bd8",
   "metadata": {},
   "outputs": [],
   "source": [
    "import numpy as np\n",
    "import matplotlib.pyplot as plt\n",
    "from scipy.optimize import curve_fit\n",
    "import math as math\n",
    "from scipy.optimize import minimize\n",
    "import scipy.stats as ss\n",
    "from scipy.signal import find_peaks \n",
    "from matplotlib import rc\n",
    "from scipy.optimize import fsolve\n",
    "\n",
    "SMALL_SIZE = 16\n",
    "MEDIUM_SIZE = 18\n",
    "BIGGER_SIZE = 24\n",
    "\n",
    "plt.rc('text', usetex=True)\n",
    "plt.rc('font', family='serif')\n",
    "plt.rc('font', size=SMALL_SIZE)          # controls default text sizes\n",
    "plt.rc('axes', titlesize=BIGGER_SIZE)     # fontsize of the axes title\n",
    "plt.rc('axes', labelsize=MEDIUM_SIZE)    # fontsize of the x and y labels\n",
    "plt.rc('xtick', labelsize=SMALL_SIZE)    # fontsize of the tick labels\n",
    "plt.rc('ytick', labelsize=SMALL_SIZE)    # fontsize of the tick labels\n",
    "plt.rc('legend', fontsize=SMALL_SIZE)    # legend fontsize\n",
    "plt.rc('figure', titlesize=BIGGER_SIZE)  # fontsize of the figure title"
   ]
  },
  {
   "cell_type": "code",
   "execution_count": 6,
   "id": "83245048",
   "metadata": {},
   "outputs": [],
   "source": [
    "data = np.transpose(np.loadtxt('EfficiencyCalData/individualEu.txt'))\n",
    "energies = data[0]\n",
    "tableInt = data[1]\n",
    "intensity = data[2]\n",
    "\n",
    "#aktiviteten af kilden på nuværende tidspunkt: \n",
    "age = 126 # days\n",
    "a0 = 10.33e3 #Bq\n",
    "t_half = 13.517*365 #days\n",
    "t_mid = t_half/np.log(2)\n",
    "a_current = a0*np.exp(-age/t_mid)\n",
    "\n",
    "#tiden for målingen i dage:\n",
    "t_meas = 4079929/1000\n",
    "\n",
    "#for hvert peak er det sande antal udsendte gammaer \n",
    "n_true = a_current * tableInt/100 * t_meas\n",
    "\n",
    "#så effektiviteten bliver\n",
    "n_eff = 4*intensity / n_true #0.25 keV bins\n",
    "n_eff_err = np.sqrt(4*intensity)/n_true"
   ]
  },
  {
   "cell_type": "code",
   "execution_count": 12,
   "id": "d773a4c9",
   "metadata": {},
   "outputs": [
    {
     "data": {
      "text/plain": [
       "Text(0, 0.5, 'Efficiency [\\\\%]')"
      ]
     },
     "execution_count": 12,
     "metadata": {},
     "output_type": "execute_result"
    },
    {
     "data": {
      "image/png": "[encoded data removed]",
      "text/plain": [
       "<Figure size 432x288 with 1 Axes>"
      ]
     },
     "metadata": {
      "needs_background": "light"
     },
     "output_type": "display_data"
    }
   ],
   "source": [
    "fig, ax = plt.subplots()\n",
    "ax.errorbar(energies, 100*n_eff, yerr = n_eff_err, fmt = '.', capsize = 3)\n",
    "ax.set_xlabel('Energy [keV]')\n",
    "ax.set_ylabel(r'Efficiency [\\%]')"
   ]
  },
  {
   "cell_type": "code",
   "execution_count": 9,
   "id": "8d8e55fd",
   "metadata": {},
   "outputs": [
    {
     "data": {
      "text/plain": [
       "array([11813179.66141579,  3126165.66574445, 11013957.81134692,\n",
       "         926255.97275104,  1293942.7424439 ,  5353817.49113586,\n",
       "        1751480.89617206,  6066003.57657698,  5660223.13254658,\n",
       "         585897.2737786 ,   676162.71949148,  8641467.21113731])"
      ]
     },
     "execution_count": 9,
     "metadata": {},
     "output_type": "execute_result"
    }
   ],
   "source": [
    "n_true"
   ]
  },
  {
   "cell_type": "code",
   "execution_count": 10,
   "id": "8c661b09",
   "metadata": {},
   "outputs": [
    {
     "data": {
      "text/plain": [
       "array([ 121.782,  244.697,  344.279,  411.116,  443.965,  778.904,\n",
       "        867.38 ,  964.05 , 1112.08 , 1212.95 , 1299.14 , 1408.01 ])"
      ]
     },
     "execution_count": 10,
     "metadata": {},
     "output_type": "execute_result"
    }
   ],
   "source": [
    "energies"
   ]
  },
  {
   "cell_type": "code",
   "execution_count": 42,
   "id": "96078bf2",
   "metadata": {},
   "outputs": [
    {
     "data": {
      "text/plain": [
       "1005.27"
      ]
     },
     "execution_count": 42,
     "metadata": {},
     "output_type": "execute_result"
    }
   ],
   "source": [
    "energies[-12]"
   ]
  },
  {
   "cell_type": "code",
   "execution_count": 32,
   "id": "3069d4b5",
   "metadata": {},
   "outputs": [
    {
     "data": {
      "text/plain": [
       "2506.31"
      ]
     },
     "execution_count": 32,
     "metadata": {},
     "output_type": "execute_result"
    }
   ],
   "source": [
    "intensity[-12]"
   ]
  },
  {
   "cell_type": "code",
   "execution_count": null,
   "id": "b3f901ef",
   "metadata": {},
   "outputs": [],
   "source": []
  }
 ],
 "metadata": {
  "kernelspec": {
   "display_name": "Python 3 (ipykernel)",
   "language": "python",
   "name": "python3"
  },
  "language_info": {
   "codemirror_mode": {
    "name": "ipython",
    "version": 3
   },
   "file_extension": ".py",
   "mimetype": "text/x-python",
   "name": "python",
   "nbconvert_exporter": "python",
   "pygments_lexer": "ipython3",
   "version": "3.9.7"
  }
 },
 "nbformat": 4,
 "nbformat_minor": 5
}
